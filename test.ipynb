{
 "cells": [
  {
   "cell_type": "code",
   "execution_count": null,
   "metadata": {},
   "outputs": [],
   "source": [
    "from torch.utils.data import DataLoader\n",
    "from torchvision import transforms\n",
    "from affectnet_util import *\n",
    "# Define data transformations\n",
    "data_transforms = transforms.Compose([\n",
    "    transforms.Resize((224, 224)),  # Resize to match model input size\n",
    "    transforms.ToTensor(),          # Convert PIL image to Tensor\n",
    "    transforms.Normalize(mean=[0.485, 0.456, 0.406], std=[0.229, 0.224, 0.225])  # Normalize\n",
    "])\n",
    "\n",
    "# Create dataset instances for train and validation\n",
    "train_dataset = AffectDataSet(data_path=\"/CSCI2952X/datasets/affectnet\", affcls=7, phase='train', transform=data_transforms)\n",
    "val_dataset = AffectDataSet(data_path=\"/CSCI2952X/datasets/affectnet\", affcls=7, phase='val', transform=data_transforms)\n",
    "\n",
    "# Create DataLoaders\n",
    "train_loader = DataLoader(train_dataset, batch_size=32, shuffle=True, num_workers=4)\n",
    "val_loader = DataLoader(val_dataset, batch_size=32, shuffle=False, num_workers=4)\n",
    "\n",
    "# Iterate through DataLoader\n",
    "for images, labels in train_loader:\n",
    "    print(images.shape)  # Output: torch.Size([32, 3, 224, 224])\n",
    "    print(labels.shape)  # Output: torch.Size([32])\n",
    "    break\n"
   ]
  }
 ],
 "metadata": {
  "kernelspec": {
   "display_name": "pytorch-gpu",
   "language": "python",
   "name": "python3"
  },
  "language_info": {
   "name": "python",
   "version": "3.11.10"
  }
 },
 "nbformat": 4,
 "nbformat_minor": 2
}
